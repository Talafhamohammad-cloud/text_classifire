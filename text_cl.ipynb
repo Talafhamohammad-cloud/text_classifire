{
 "cells": [
  {
   "cell_type": "code",
   "execution_count": null,
   "source": [
    "import pandas as pd "
   ],
   "outputs": [],
   "metadata": {}
  }
 ],
 "metadata": {
  "orig_nbformat": 4,
  "language_info": {
   "name": "python",
   "version": "3.9.6"
  },
  "kernelspec": {
   "name": "python3",
   "display_name": "Python 3.9.6 64-bit ('.venv': poetry)"
  },
  "interpreter": {
   "hash": "b3924b5b7256f3b35be591f2b142770e695686a980b600128a0c4095058d8dc1"
  }
 },
 "nbformat": 4,
 "nbformat_minor": 2
}